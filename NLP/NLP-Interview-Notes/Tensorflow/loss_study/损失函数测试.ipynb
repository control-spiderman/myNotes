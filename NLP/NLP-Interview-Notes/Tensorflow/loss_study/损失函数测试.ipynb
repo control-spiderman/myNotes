{
 "cells": [
  {
   "cell_type": "code",
   "execution_count": 26,
   "metadata": {
    "scrolled": true
   },
   "outputs": [],
   "source": [
    "import tensorflow as tf\n",
    "sess=tf.Session()\n",
    "y_pred=tf.linspace(-1., 1., 100)\n",
    "y_target=tf.constant(0.)"
   ]
  },
  {
   "cell_type": "markdown",
   "metadata": {},
   "source": [
    "# 回归模型的损失函数"
   ]
  },
  {
   "cell_type": "markdown",
   "metadata": {},
   "source": [
    "## （1）L1正则损失函数（即绝对值损失函数）"
   ]
  },
  {
   "cell_type": "code",
   "execution_count": 3,
   "metadata": {
    "scrolled": true
   },
   "outputs": [
    {
     "data": {
      "text/plain": [
       "array([1.        , 0.97979796, 0.959596  , 0.93939394, 0.9191919 ,\n",
       "       0.8989899 , 0.8787879 , 0.85858583, 0.83838385, 0.8181818 ,\n",
       "       0.79797983, 0.7777778 , 0.75757575, 0.7373737 , 0.7171717 ,\n",
       "       0.6969697 , 0.6767677 , 0.65656567, 0.6363636 , 0.6161616 ,\n",
       "       0.5959596 , 0.57575756, 0.5555556 , 0.53535354, 0.5151515 ,\n",
       "       0.49494952, 0.47474748, 0.45454544, 0.43434346, 0.41414142,\n",
       "       0.39393938, 0.3737374 , 0.35353535, 0.3333333 , 0.31313133,\n",
       "       0.2929293 , 0.27272725, 0.25252527, 0.23232323, 0.21212119,\n",
       "       0.19191921, 0.17171717, 0.15151513, 0.13131315, 0.1111111 ,\n",
       "       0.09090906, 0.07070708, 0.05050504, 0.030303  , 0.01010102,\n",
       "       0.01010096, 0.030303  , 0.05050504, 0.07070708, 0.09090912,\n",
       "       0.11111116, 0.13131309, 0.15151513, 0.17171717, 0.19191921,\n",
       "       0.21212125, 0.23232329, 0.2525252 , 0.27272725, 0.2929293 ,\n",
       "       0.31313133, 0.33333337, 0.3535353 , 0.37373734, 0.39393938,\n",
       "       0.41414142, 0.43434346, 0.4545455 , 0.47474742, 0.49494946,\n",
       "       0.5151515 , 0.53535354, 0.5555556 , 0.5757576 , 0.59595954,\n",
       "       0.6161616 , 0.6363636 , 0.65656567, 0.6767677 , 0.69696975,\n",
       "       0.71717167, 0.7373737 , 0.75757575, 0.7777778 , 0.79797983,\n",
       "       0.8181819 , 0.8383838 , 0.85858583, 0.8787879 , 0.8989899 ,\n",
       "       0.91919196, 0.939394  , 0.9595959 , 0.97979796, 1.        ],\n",
       "      dtype=float32)"
      ]
     },
     "execution_count": 3,
     "metadata": {},
     "output_type": "execute_result"
    }
   ],
   "source": [
    "loss_l1_vals=tf.abs(y_pred-y_target)\n",
    "loss_l1_out=sess.run(loss_l1_vals)\n",
    "loss_l1_out"
   ]
  },
  {
   "cell_type": "markdown",
   "metadata": {},
   "source": [
    "## （2）L2正则损失函数（即欧拉损失函数）"
   ]
  },
  {
   "cell_type": "code",
   "execution_count": 5,
   "metadata": {
    "scrolled": true
   },
   "outputs": [
    {
     "data": {
      "text/plain": [
       "array([1.00000000e+00, 9.60004032e-01, 9.20824468e-01, 8.82460952e-01,\n",
       "       8.44913721e-01, 8.08182895e-01, 7.72268116e-01, 7.37169623e-01,\n",
       "       7.02887475e-01, 6.69421494e-01, 6.36771798e-01, 6.04938269e-01,\n",
       "       5.73921025e-01, 5.43720007e-01, 5.14335275e-01, 4.85766739e-01,\n",
       "       4.58014518e-01, 4.31078464e-01, 4.04958665e-01, 3.79655093e-01,\n",
       "       3.55167836e-01, 3.31496775e-01, 3.08642000e-01, 2.86603421e-01,\n",
       "       2.65381068e-01, 2.44975030e-01, 2.25385174e-01, 2.06611559e-01,\n",
       "       1.88654244e-01, 1.71513110e-01, 1.55188233e-01, 1.39679641e-01,\n",
       "       1.24987245e-01, 1.11111097e-01, 9.80512276e-02, 8.58075693e-02,\n",
       "       7.43801519e-02, 6.37690127e-02, 5.39740846e-02, 4.49953973e-02,\n",
       "       3.68329808e-02, 2.94867847e-02, 2.29568332e-02, 1.72431413e-02,\n",
       "       1.23456772e-02, 8.26445781e-03, 4.99949139e-03, 2.55075935e-03,\n",
       "       9.18271893e-04, 1.02030615e-04, 1.02029408e-04, 9.18271893e-04,\n",
       "       2.55075935e-03, 4.99949139e-03, 8.26446898e-03, 1.23456912e-02,\n",
       "       1.72431264e-02, 2.29568332e-02, 2.94867847e-02, 3.68329808e-02,\n",
       "       4.49954234e-02, 5.39741106e-02, 6.37689829e-02, 7.43801519e-02,\n",
       "       8.58075693e-02, 9.80512276e-02, 1.11111134e-01, 1.24987207e-01,\n",
       "       1.39679596e-01, 1.55188233e-01, 1.71513110e-01, 1.88654244e-01,\n",
       "       2.06611603e-01, 2.25385115e-01, 2.44974971e-01, 2.65381068e-01,\n",
       "       2.86603421e-01, 3.08642000e-01, 3.31496835e-01, 3.55167776e-01,\n",
       "       3.79655093e-01, 4.04958665e-01, 4.31078464e-01, 4.58014518e-01,\n",
       "       4.85766828e-01, 5.14335215e-01, 5.43720007e-01, 5.73921025e-01,\n",
       "       6.04938269e-01, 6.36771798e-01, 6.69421554e-01, 7.02887356e-01,\n",
       "       7.37169623e-01, 7.72268116e-01, 8.08182895e-01, 8.44913840e-01,\n",
       "       8.82461071e-01, 9.20824349e-01, 9.60004032e-01, 1.00000000e+00],\n",
       "      dtype=float32)"
      ]
     },
     "execution_count": 5,
     "metadata": {},
     "output_type": "execute_result"
    }
   ],
   "source": [
    "loss_l2_vals=tf.square(y_pred - y_target)\n",
    "loss_l2_out=sess.run(loss_l2_vals)\n",
    "loss_l2_out"
   ]
  },
  {
   "cell_type": "markdown",
   "metadata": {},
   "source": [
    "## （3）均方误差（MSE, mean squared error）"
   ]
  },
  {
   "cell_type": "code",
   "execution_count": null,
   "metadata": {},
   "outputs": [],
   "source": [
    "loss_mse_vals= tf.reduce.mean(tf.square(y_pred - y_target))\n",
    "loss_mse_out = sess.run(loss_mse_vals)"
   ]
  },
  {
   "cell_type": "markdown",
   "metadata": {},
   "source": [
    "# 分类模型的损失函数"
   ]
  },
  {
   "cell_type": "code",
   "execution_count": 7,
   "metadata": {},
   "outputs": [],
   "source": [
    "y_pred=tf.linspace(-3., 5., 100)\n",
    "y_target=tf.constant(1.)\n",
    "y_targets=tf.fill([100, ], 1.)"
   ]
  },
  {
   "cell_type": "markdown",
   "metadata": {},
   "source": [
    "## （1）Hinge损失函数"
   ]
  },
  {
   "cell_type": "code",
   "execution_count": null,
   "metadata": {},
   "outputs": [],
   "source": [
    "loss_hinge_vals = tf.maximum(0., 1. -tf.mul(y_target, y_pred))\n",
    "loss_hinge_out = sess.run(loss_hinge_vals)"
   ]
  },
  {
   "cell_type": "markdown",
   "metadata": {},
   "source": [
    "## （2）Sigmoid交叉熵损失函数"
   ]
  },
  {
   "cell_type": "code",
   "execution_count": 13,
   "metadata": {
    "scrolled": true
   },
   "outputs": [
    {
     "name": "stdout",
     "output_type": "stream",
     "text": [
      "WARNING:tensorflow:From D:\\program\\anaconda\\lib\\site-packages\\tensorflow\\python\\ops\\nn_impl.py:180: add_dispatch_support.<locals>.wrapper (from tensorflow.python.ops.array_ops) is deprecated and will be removed in a future version.\n",
      "Instructions for updating:\n",
      "Use tf.where in 2.0, which has the same broadcast rule as np.where\n"
     ]
    },
    {
     "data": {
      "text/plain": [
       "array([ 4.3132615 ,  4.2324533 ,  4.1516457 ,  4.0708375 ,  3.9900293 ,\n",
       "        3.9092214 ,  3.8284132 ,  3.747605  ,  3.6667972 ,  3.585989  ,\n",
       "        3.505181  ,  3.424373  ,  3.3435647 ,  3.2627566 ,  3.1819487 ,\n",
       "        3.1011405 ,  3.0203326 ,  2.9395244 ,  2.8587162 ,  2.777908  ,\n",
       "        2.6971002 ,  2.616292  ,  2.535484  ,  2.454676  ,  2.3738678 ,\n",
       "        2.2930598 ,  2.2122517 ,  2.1314435 ,  2.0506356 ,  1.9698274 ,\n",
       "        1.8890193 ,  1.8082113 ,  1.7274032 ,  1.646595  ,  1.5657871 ,\n",
       "        1.4849789 ,  1.4041708 ,  1.3233628 ,  1.2425547 ,  1.1617465 ,\n",
       "        1.0809386 ,  1.0001304 ,  0.91932225,  0.8385143 ,  0.75770617,\n",
       "        0.676898  ,  0.5960901 ,  0.5152819 ,  0.43447372,  0.3536658 ,\n",
       "        0.27285787,  0.19204971,  0.11124155,  0.03043339, -0.05037478,\n",
       "       -0.13118294, -0.21199062, -0.2927988 , -0.37360695, -0.4544151 ,\n",
       "       -0.53522325, -0.6160314 , -0.6968391 , -0.77764726, -0.8584554 ,\n",
       "       -0.9392636 , -1.0200717 , -1.1008794 , -1.1816876 , -1.2624958 ,\n",
       "       -1.3433039 , -1.4241121 , -1.5049202 , -1.5857279 , -1.6665361 ,\n",
       "       -1.7473443 , -1.8281524 , -1.9089606 , -1.9897687 , -2.0705764 ,\n",
       "       -2.1513846 , -2.2321928 , -2.313001  , -2.393809  , -2.4746172 ,\n",
       "       -2.555425  , -2.636233  , -2.7170413 , -2.7978494 , -2.8786576 ,\n",
       "       -2.9594657 , -3.0402734 , -3.1210816 , -3.2018898 , -3.282698  ,\n",
       "       -3.363506  , -3.4443142 , -3.525122  , -3.60593   , -3.6867383 ],\n",
       "      dtype=float32)"
      ]
     },
     "execution_count": 13,
     "metadata": {},
     "output_type": "execute_result"
    }
   ],
   "source": [
    "loss_sce_vals=tf.nn.sigmoid_cross_entropy_with_logits(labels=y_pred, logits=y_targets)\n",
    "loss_sce_out=sess.run(loss_sce_vals)\n",
    "loss_sce_out"
   ]
  },
  {
   "cell_type": "markdown",
   "metadata": {},
   "source": [
    "## （4）加权交叉熵损失函数"
   ]
  },
  {
   "cell_type": "code",
   "execution_count": 15,
   "metadata": {},
   "outputs": [],
   "source": [
    "weight = tf.constant(0.5)\n",
    "loss_wce_vals = tf.nn.weighted_cross_entropy_with_logits(y_pred, y_targets, weight)\n",
    "loss_wce_out = sess.run(loss_wce_vals)"
   ]
  },
  {
   "cell_type": "code",
   "execution_count": 16,
   "metadata": {},
   "outputs": [
    {
     "data": {
      "text/plain": [
       "array([ 4.7831545 ,  4.689689  ,  4.5962243 ,  4.502759  ,  4.4092937 ,\n",
       "        4.315829  ,  4.2223635 ,  4.128898  ,  4.0354333 ,  3.9419682 ,\n",
       "        3.848503  ,  3.755038  ,  3.661573  ,  3.5681076 ,  3.4746428 ,\n",
       "        3.3811774 ,  3.2877126 ,  3.1942472 ,  3.1007822 ,  3.0073168 ,\n",
       "        2.913852  ,  2.8203866 ,  2.7269218 ,  2.6334565 ,  2.5399914 ,\n",
       "        2.4465265 ,  2.3530612 ,  2.2595959 ,  2.166131  ,  2.072666  ,\n",
       "        1.9792006 ,  1.8857356 ,  1.7922704 ,  1.6988052 ,  1.6053402 ,\n",
       "        1.5118752 ,  1.4184098 ,  1.324945  ,  1.2314798 ,  1.1380146 ,\n",
       "        1.0445496 ,  0.9510844 ,  0.85761917,  0.7641542 ,  0.670689  ,\n",
       "        0.5772238 ,  0.48375884,  0.3902936 ,  0.2968284 ,  0.20336346,\n",
       "        0.10989852,  0.01643331, -0.0770319 , -0.17049712, -0.26396233,\n",
       "       -0.35742754, -0.4508922 , -0.5443574 , -0.6378226 , -0.73128784,\n",
       "       -0.82475305, -0.91821826, -1.011683  , -1.1051482 , -1.1986134 ,\n",
       "       -1.2920786 , -1.3855438 , -1.4790084 , -1.5724736 , -1.6659389 ,\n",
       "       -1.7594041 , -1.8528693 , -1.9463346 , -2.0397992 , -2.1332645 ,\n",
       "       -2.2267296 , -2.3201947 , -2.41366   , -2.5071254 , -2.60059   ,\n",
       "       -2.694055  , -2.7875204 , -2.8809855 , -2.9744508 , -3.067916  ,\n",
       "       -3.1613808 , -3.2548459 , -3.3483112 , -3.4417763 , -3.5352416 ,\n",
       "       -3.6287067 , -3.7221713 , -3.8156366 , -3.909102  , -4.0025673 ,\n",
       "       -4.096032  , -4.1894975 , -4.2829623 , -4.376427  , -4.4698925 ],\n",
       "      dtype=float32)"
      ]
     },
     "execution_count": 16,
     "metadata": {},
     "output_type": "execute_result"
    }
   ],
   "source": [
    "loss_wce_out"
   ]
  },
  {
   "cell_type": "markdown",
   "metadata": {},
   "source": [
    "## （5）Softmax交叉熵损失函数"
   ]
  },
  {
   "cell_type": "code",
   "execution_count": 20,
   "metadata": {},
   "outputs": [],
   "source": [
    "y_pred=tf.constant([[1., -3., 10.]])\n",
    "y_target=tf.constant([[0.1, 0.02, 0.88]])\n",
    "loss_sce_vals=tf.nn.softmax_cross_entropy_with_logits(labels=y_pred, logits=y_target)\n",
    "loss_sce_out=sess.run(loss_sce_vals)"
   ]
  },
  {
   "cell_type": "markdown",
   "metadata": {},
   "source": [
    "## (6) SparseCategoricalCrossentropy vs sparse_categorical_crossentropy"
   ]
  },
  {
   "cell_type": "code",
   "execution_count": 35,
   "metadata": {},
   "outputs": [],
   "source": [
    "import tensorflow as tf\n",
    "import numpy as np\n",
    "init = tf.global_variables_initializer()\n",
    "sess=tf.Session()\n",
    "sess.run(init)\n",
    "y_true = tf.constant([1, 2])\n",
    "y_pred = tf.constant([[0.05, 0.95, 0], [0.1, 0.8, 0.1]])\n",
    "loss = tf.reduce_mean(tf.keras.losses.sparse_categorical_crossentropy(y_true, y_pred))\n",
    "scce = tf.keras.losses.SparseCategoricalCrossentropy()\n"
   ]
  },
  {
   "cell_type": "code",
   "execution_count": 36,
   "metadata": {},
   "outputs": [
    {
     "data": {
      "text/plain": [
       "1.1769392"
      ]
     },
     "execution_count": 36,
     "metadata": {},
     "output_type": "execute_result"
    }
   ],
   "source": [
    "loss.eval(session=sess)"
   ]
  },
  {
   "cell_type": "code",
   "execution_count": 37,
   "metadata": {},
   "outputs": [
    {
     "ename": "AttributeError",
     "evalue": "'SparseCategoricalCrossentropy' object has no attribute 'eval'",
     "output_type": "error",
     "traceback": [
      "\u001b[1;31m---------------------------------------------------------------------------\u001b[0m",
      "\u001b[1;31mAttributeError\u001b[0m                            Traceback (most recent call last)",
      "\u001b[1;32m<ipython-input-37-16856b7a83f7>\u001b[0m in \u001b[0;36m<module>\u001b[1;34m()\u001b[0m\n\u001b[1;32m----> 1\u001b[1;33m \u001b[0mscce\u001b[0m\u001b[1;33m.\u001b[0m\u001b[0meval\u001b[0m\u001b[1;33m(\u001b[0m\u001b[0msession\u001b[0m\u001b[1;33m=\u001b[0m\u001b[0msess\u001b[0m\u001b[1;33m)\u001b[0m\u001b[1;33m\u001b[0m\u001b[0m\n\u001b[0m",
      "\u001b[1;31mAttributeError\u001b[0m: 'SparseCategoricalCrossentropy' object has no attribute 'eval'"
     ]
    }
   ],
   "source": [
    "scce.eval(session=sess)"
   ]
  },
  {
   "cell_type": "code",
   "execution_count": null,
   "metadata": {},
   "outputs": [],
   "source": []
  }
 ],
 "metadata": {
  "hide_input": false,
  "kernelspec": {
   "display_name": "Python 3",
   "language": "python",
   "name": "python3"
  },
  "language_info": {
   "codemirror_mode": {
    "name": "ipython",
    "version": 3
   },
   "file_extension": ".py",
   "mimetype": "text/x-python",
   "name": "python",
   "nbconvert_exporter": "python",
   "pygments_lexer": "ipython3",
   "version": "3.7.0"
  },
  "toc": {
   "base_numbering": 1,
   "nav_menu": {},
   "number_sections": true,
   "sideBar": true,
   "skip_h1_title": false,
   "title_cell": "Table of Contents",
   "title_sidebar": "Contents",
   "toc_cell": false,
   "toc_position": {},
   "toc_section_display": true,
   "toc_window_display": false
  }
 },
 "nbformat": 4,
 "nbformat_minor": 2
}
